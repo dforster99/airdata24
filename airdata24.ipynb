{
 "cells": [
  {
   "metadata": {},
   "cell_type": "markdown",
   "source": [
    "# Air Data 2024\n",
    "This notebook explores + analyses data from the UK's Civil Aviation Authority (CAA) regarding various statistics for UK-registered airlines. This analysis will aim to answer the following research question:\n",
    "> **What can explain patterns in air travel data during 2024?**\n",
    "### Features and their context\n",
    "The CAA dataset has collected the following statistics. Their description is also available in the 'Dataset overview.pdf' file.\n",
    "| Feature | Description | Unit |\n",
    "| --- | --- | --- |\n",
    "| type_of_operations | Whether the airline carries passengers or cargo. | |\n",
    "| airline_name | The trading name of the airline. | |\n",
    "| aircraft_km_x1000 | The number of flights performed, multiplied by the stage distance for that flight. | 1000km |\n",
    "| no_flights | The number of flights that the airline performed in the time period. | |\n",
    "| aircraft_hours | The total number of hours spent operating aircraft, 'block-to-block', i.e. from the moment of pushback to the moment of parking. | hours |\n",
    "| total_passengers_uplifted | The total number of passengers carried by the airline in the time period. Passengers are only counted once per flight number, not duplicated on separate stages of the same journey. | |\n",
    "| seat_km_available_x1000 | The number of seats available to be booked on the flight, multiplied by its stage distance, summed over all flights. | 1000km|\n",
    "| seat_km_x1000 | The number of seats purchased on the flight, multiplied by its stage distance, summed up over all flights. | 1000km |\n",
    "| cargo_tonnes_uplifted | The total amount of cargo carried by the airline in the time period. | tonnes (1000kg) |\n",
    "| total_tonne_km_x1000 | The total amount of revenue cargo carried on a flight, multiplied by the stage distance, summed up over all flights | 1000 tonne km |\n",
    "| tot_mail_tonne_km_used_x1000 | The total amount of tonne kilometers of mail cargo. | 1000 tonne km |\n",
    "| total_freight_tonne_km_used_x1000 | The total amount of tonne kilometers of freight cargo. | 1000 tonne km |\n",
    "| total_passenger_tonne_km_used_x1000| The total amount of tonne kilometers of passenger cargo. | 1000 tonne km |"
   ],
   "id": "cda063fcf8964cb"
  },
  {
   "metadata": {},
   "cell_type": "markdown",
   "source": "### Initial imports & cleaning",
   "id": "796469d6b5dda2b9"
  },
  {
   "metadata": {
    "ExecuteTime": {
     "end_time": "2025-04-22T18:50:07.091122Z",
     "start_time": "2025-04-22T18:50:07.089440Z"
    }
   },
   "cell_type": "code",
   "source": "",
   "id": "b732b3f4524901af",
   "outputs": [],
   "execution_count": null
  },
  {
   "cell_type": "code",
   "id": "initial_id",
   "metadata": {
    "collapsed": true,
    "ExecuteTime": {
     "end_time": "2025-04-22T18:50:07.099673Z",
     "start_time": "2025-04-22T18:50:07.097759Z"
    }
   },
   "source": [
    "# package imports\n",
    "import numpy as np\n",
    "import pandas as pd"
   ],
   "outputs": [],
   "execution_count": 12
  },
  {
   "metadata": {
    "ExecuteTime": {
     "end_time": "2025-04-22T18:50:07.115093Z",
     "start_time": "2025-04-22T18:50:07.111313Z"
    }
   },
   "cell_type": "code",
   "source": [
    "# import dataset\n",
    "FILEPATH = 'annual_data.csv'\n",
    "df = pd.read_csv(FILEPATH)\n",
    "\n",
    "# Drop unnecessary 'rundate' and 'reporting_period' columns\n",
    "df.drop(['rundate', 'reporting_period'], axis=1, inplace=True)"
   ],
   "id": "6ba9ffdfe1ebc04f",
   "outputs": [],
   "execution_count": 13
  }
 ],
 "metadata": {
  "kernelspec": {
   "display_name": "Python 3",
   "language": "python",
   "name": "python3"
  },
  "language_info": {
   "codemirror_mode": {
    "name": "ipython",
    "version": 2
   },
   "file_extension": ".py",
   "mimetype": "text/x-python",
   "name": "python",
   "nbconvert_exporter": "python",
   "pygments_lexer": "ipython2",
   "version": "2.7.6"
  }
 },
 "nbformat": 4,
 "nbformat_minor": 5
}
