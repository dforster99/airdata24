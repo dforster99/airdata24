{
 "cells": [
  {
   "metadata": {},
   "cell_type": "markdown",
   "source": "# Air Data 2024",
   "id": "cda063fcf8964cb"
  },
  {
   "metadata": {},
   "cell_type": "markdown",
   "source": [
    "This notebook explores + analyses data from the UK's Civil Aviation Authority (CAA) regarding various statistics for UK-registered airlines. This analysis will aim to answer the following research question:\n",
    "> **What can explain patterns in air travel data during 2024?**\n",
    "\n",
    "### Features and their context\n",
    "The CAA dataset has collected the following statistics. Their description is also available in the 'Dataset overview.pdf' file.\n",
    "| Feature | Description | Unit |\n",
    "| --- | --- | --- |\n",
    "| reporting_period | The month to which the record pertains. | |\n",
    "| type_of_operations | Whether the airline carries passengers or cargo. | |\n",
    "| airline_name | The trading name of the airline. | |\n",
    "| aircraft_km_x1000 | The number of flights performed, multiplied by the stage distance for that flight. | 1000km |\n",
    "| no_flights | The number of flights that the airline performed in the time period. | |\n",
    "| aircraft_hours | The total number of hours spent operating aircraft, 'block-to-block', i.e. from the moment of pushback to the moment of parking. | hours |\n",
    "| total_passengers_uplifted | The total number of passengers carried by the airline in the time period. Passengers are only counted once per flight number, not duplicated on separate stages of the same journey. | |\n",
    "| seat_km_available_x1000 | The number of seats available to be booked on the flight, multiplied by its stage distance, summed over all flights. | 1000km|\n",
    "| seat_km_usedx1000 | The number of seats purchased on the flight, multiplied by its stage distance, summed up over all flights. | 1000km |\n",
    "| cargo_tonnes_uplifted | The total amount of cargo carried by the airline in the time period. | tonnes (1000kg) |\n",
    "| total_tonne_km_availablex1000 | The amount of tonnes available for the carriage of revenue cargo on a flight, multiplied by the stage distance, summed up over all flights | 1000 tonne km |\n",
    "| tot_mail_tonne_km_used_x1000 | The total amount of tonne kilometers of mail cargo. | 1000 tonne km |\n",
    "| total_freight_tonne_km_used_x1000 | The total amount of tonne kilometers of freight cargo. | 1000 tonne km |\n",
    "| total_passenger_tonne_km_used_x1000| The total amount of tonne kilometers of passenger cargo. | 1000 tonne km |"
   ],
   "id": "fcd3d44d2a8a273a"
  },
  {
   "metadata": {},
   "cell_type": "markdown",
   "source": "### Initial imports & cleaning",
   "id": "796469d6b5dda2b9"
  },
  {
   "cell_type": "code",
   "id": "initial_id",
   "metadata": {
    "collapsed": true,
    "ExecuteTime": {
     "end_time": "2025-05-07T12:20:53.766197Z",
     "start_time": "2025-05-07T12:20:53.763997Z"
    }
   },
   "source": [
    "# package imports\n",
    "import pandas as pd\n",
    "import os\n",
    "import glob\n",
    "import seaborn as sns"
   ],
   "outputs": [],
   "execution_count": 38
  },
  {
   "metadata": {
    "ExecuteTime": {
     "end_time": "2025-05-07T12:20:56.939268Z",
     "start_time": "2025-05-07T12:20:56.924741Z"
    }
   },
   "cell_type": "code",
   "source": [
    "# import dataset\n",
    "dataframes = []\n",
    "path = './input/airdatamonths/'\n",
    "files = glob.glob(os.path.join(path, '*.csv'))\n",
    "df = pd.concat((pd.read_csv(f) for f in files), ignore_index=True)\n",
    "print('Dataframe succesfully loaded.')\n",
    "\n",
    "# Change numerical month code to text\n",
    "reporting_periods = {202401:'Jan', 202402:'Feb', 202403:'Mar', 202404:'Apr',202405:'May',202406:'Jun',202407:'Jul', 202408:'Aug', 202409:'Sep', 202410:'Oct', 202411:'Nov', 202412:'Dec'}\n",
    "df['reporting_period'] = df['reporting_period'].replace(reporting_periods)\n",
    "\n",
    "# Remove unnecessary 'rundate' column\n",
    "df.drop(['rundate'], axis=1, inplace=True)"
   ],
   "id": "6ba9ffdfe1ebc04f",
   "outputs": [
    {
     "name": "stdout",
     "output_type": "stream",
     "text": [
      "Dataframe succesfully loaded.\n"
     ]
    }
   ],
   "execution_count": 39
  },
  {
   "metadata": {},
   "cell_type": "markdown",
   "source": "### Exploratory Data Analysis",
   "id": "ef64853dacbc48c9"
  },
  {
   "metadata": {
    "ExecuteTime": {
     "end_time": "2025-05-07T12:20:58.793831Z",
     "start_time": "2025-05-07T12:20:58.724599Z"
    }
   },
   "cell_type": "code",
   "source": [
    "# First, a scaled bar chart of the total number of flights for each month\n",
    "month_list = reporting_periods.values()\n",
    "month_flights_list = []\n",
    "for month in month_list:\n",
    "    month_flights = sum(df[df['reporting_period'] == month].no_flights)\n",
    "    month_flights_list.append((month, month_flights))\n",
    "month_flights_df = pd.DataFrame(month_flights_list, columns=['month', 'total_flights'])\n",
    "\n",
    "fig = sns.barplot(data=month_flights_df, x='month', y='total_flights')\n",
    "fig.set(xlabel='Month', ylabel='Total Flights')"
   ],
   "id": "e8ae383cabbef354",
   "outputs": [
    {
     "data": {
      "text/plain": [
       "[Text(0.5, 0, 'Month'), Text(0, 0.5, 'Total Flights')]"
      ]
     },
     "execution_count": 40,
     "metadata": {},
     "output_type": "execute_result"
    },
    {
     "data": {
      "text/plain": [
       "<Figure size 640x480 with 1 Axes>"
      ],
      "image/png": "[encoded data removed]"
     },
     "metadata": {},
     "output_type": "display_data"
    }
   ],
   "execution_count": 40
  },
  {
   "metadata": {},
   "cell_type": "markdown",
   "source": "As expected, the total number of flights performed by UK airlines peaks over the summer holiday season and is lowest over the November-January period, with a slight surge for Christmas break holidays in December.",
   "id": "70a704589d366ea5"
  },
  {
   "metadata": {},
   "cell_type": "code",
   "outputs": [],
   "execution_count": null,
   "source": "",
   "id": "8bb86e8ced6cbd3a"
  }
 ],
 "metadata": {
  "kernelspec": {
   "display_name": "Python 3",
   "language": "python",
   "name": "python3"
  },
  "language_info": {
   "codemirror_mode": {
    "name": "ipython",
    "version": 2
   },
   "file_extension": ".py",
   "mimetype": "text/x-python",
   "name": "python",
   "nbconvert_exporter": "python",
   "pygments_lexer": "ipython2",
   "version": "2.7.6"
  }
 },
 "nbformat": 4,
 "nbformat_minor": 5
}
